{
 "cells": [
  {
   "cell_type": "markdown",
   "metadata": {
    "slideshow": {
     "slide_type": "slide"
    }
   },
   "source": [
    "# 분석일자\n",
    "(2021.05.03)"
   ]
  },
  {
   "cell_type": "code",
   "execution_count": 1,
   "metadata": {
    "slideshow": {
     "slide_type": "slide"
    }
   },
   "outputs": [
    {
     "name": "stdout",
     "output_type": "stream",
     "text": [
      "파이썬 버전 : 3.7.9 (default, Aug 31 2020, 17:10:11) [MSC v.1916 64 bit (AMD64)]\n",
      "판다스 버전 : 1.1.3\n",
      "넘파이 버전 : 1.18.5\n"
     ]
    }
   ],
   "source": [
    "# 라이브러리 임포트\n",
    "import os\n",
    "import pandas as pd\n",
    "import matplotlib.pyplot as plt\n",
    "import seaborn as sns\n",
    "import numpy as np\n",
    "import sys\n",
    "\n",
    "import warnings\n",
    "warnings.filterwarnings('ignore')\n",
    "\n",
    "print(\"파이썬 버전 :\",sys.version)\n",
    "print(\"판다스 버전 :\",pd.__version__)\n",
    "print(\"넘파이 버전 :\",np.__version__)"
   ]
  },
  {
   "cell_type": "code",
   "execution_count": 2,
   "metadata": {
    "slideshow": {
     "slide_type": "slide"
    }
   },
   "outputs": [
    {
     "name": "stdout",
     "output_type": "stream",
     "text": [
      "['company_nps_data.csv']\n"
     ]
    },
    {
     "data": {
      "text/html": [
       "<div>\n",
       "<style scoped>\n",
       "    .dataframe tbody tr th:only-of-type {\n",
       "        vertical-align: middle;\n",
       "    }\n",
       "\n",
       "    .dataframe tbody tr th {\n",
       "        vertical-align: top;\n",
       "    }\n",
       "\n",
       "    .dataframe thead th {\n",
       "        text-align: right;\n",
       "    }\n",
       "</style>\n",
       "<table border=\"1\" class=\"dataframe\">\n",
       "  <thead>\n",
       "    <tr style=\"text-align: right;\">\n",
       "      <th></th>\n",
       "      <th>회사ID</th>\n",
       "      <th>연매출액</th>\n",
       "      <th>년도</th>\n",
       "      <th>월</th>\n",
       "      <th>월별_연금보험료</th>\n",
       "      <th>월별_직원수</th>\n",
       "    </tr>\n",
       "  </thead>\n",
       "  <tbody>\n",
       "    <tr>\n",
       "      <th>0</th>\n",
       "      <td>233757</td>\n",
       "      <td>41688077</td>\n",
       "      <td>2018</td>\n",
       "      <td>7</td>\n",
       "      <td>8912380</td>\n",
       "      <td>36</td>\n",
       "    </tr>\n",
       "    <tr>\n",
       "      <th>1</th>\n",
       "      <td>123464</td>\n",
       "      <td>1760695</td>\n",
       "      <td>2018</td>\n",
       "      <td>3</td>\n",
       "      <td>942380</td>\n",
       "      <td>5</td>\n",
       "    </tr>\n",
       "    <tr>\n",
       "      <th>2</th>\n",
       "      <td>342124</td>\n",
       "      <td>3221341</td>\n",
       "      <td>2018</td>\n",
       "      <td>7</td>\n",
       "      <td>781180</td>\n",
       "      <td>4</td>\n",
       "    </tr>\n",
       "    <tr>\n",
       "      <th>3</th>\n",
       "      <td>386420</td>\n",
       "      <td>4815584</td>\n",
       "      <td>2015</td>\n",
       "      <td>11</td>\n",
       "      <td>3795900</td>\n",
       "      <td>14</td>\n",
       "    </tr>\n",
       "    <tr>\n",
       "      <th>4</th>\n",
       "      <td>129243</td>\n",
       "      <td>9799736</td>\n",
       "      <td>2018</td>\n",
       "      <td>10</td>\n",
       "      <td>40724680</td>\n",
       "      <td>151</td>\n",
       "    </tr>\n",
       "  </tbody>\n",
       "</table>\n",
       "</div>"
      ],
      "text/plain": [
       "     회사ID      연매출액    년도   월  월별_연금보험료  월별_직원수\n",
       "0  233757  41688077  2018   7   8912380      36\n",
       "1  123464   1760695  2018   3    942380       5\n",
       "2  342124   3221341  2018   7    781180       4\n",
       "3  386420   4815584  2015  11   3795900      14\n",
       "4  129243   9799736  2018  10  40724680     151"
      ]
     },
     "metadata": {},
     "output_type": "display_data"
    }
   ],
   "source": [
    "# 데이터 확인\n",
    "path = \"C:/Users/parkgun/Desktop/프리온보딩/팀프로젝트_1주차/data\"\n",
    "print(os.listdir(path))\n",
    "\n",
    "# 데이터 불러오기\n",
    "df = pd.read_csv(path+\"/company_nps_data.csv\", encoding=\"cp949\")\n",
    "display(df.head())"
   ]
  },
  {
   "cell_type": "code",
   "execution_count": 3,
   "metadata": {
    "slideshow": {
     "slide_type": "slide"
    }
   },
   "outputs": [
    {
     "data": {
      "text/html": [
       "<div>\n",
       "<style scoped>\n",
       "    .dataframe tbody tr th:only-of-type {\n",
       "        vertical-align: middle;\n",
       "    }\n",
       "\n",
       "    .dataframe tbody tr th {\n",
       "        vertical-align: top;\n",
       "    }\n",
       "\n",
       "    .dataframe thead th {\n",
       "        text-align: right;\n",
       "    }\n",
       "</style>\n",
       "<table border=\"1\" class=\"dataframe\">\n",
       "  <thead>\n",
       "    <tr style=\"text-align: right;\">\n",
       "      <th></th>\n",
       "      <th>회사ID</th>\n",
       "      <th>연매출액</th>\n",
       "      <th>월별_연금보험료</th>\n",
       "      <th>월별_직원수</th>\n",
       "      <th>년월</th>\n",
       "    </tr>\n",
       "  </thead>\n",
       "  <tbody>\n",
       "    <tr>\n",
       "      <th>9295</th>\n",
       "      <td>391439</td>\n",
       "      <td>2465042</td>\n",
       "      <td>646460</td>\n",
       "      <td>4</td>\n",
       "      <td>201511</td>\n",
       "    </tr>\n",
       "    <tr>\n",
       "      <th>47772</th>\n",
       "      <td>381560</td>\n",
       "      <td>10314403</td>\n",
       "      <td>34580380</td>\n",
       "      <td>105</td>\n",
       "      <td>201511</td>\n",
       "    </tr>\n",
       "    <tr>\n",
       "      <th>5572</th>\n",
       "      <td>305317</td>\n",
       "      <td>12271715</td>\n",
       "      <td>5065780</td>\n",
       "      <td>18</td>\n",
       "      <td>201511</td>\n",
       "    </tr>\n",
       "    <tr>\n",
       "      <th>78461</th>\n",
       "      <td>301480</td>\n",
       "      <td>8353896</td>\n",
       "      <td>5993500</td>\n",
       "      <td>27</td>\n",
       "      <td>201511</td>\n",
       "    </tr>\n",
       "    <tr>\n",
       "      <th>28216</th>\n",
       "      <td>242049</td>\n",
       "      <td>2586419</td>\n",
       "      <td>2236500</td>\n",
       "      <td>14</td>\n",
       "      <td>201511</td>\n",
       "    </tr>\n",
       "    <tr>\n",
       "      <th>...</th>\n",
       "      <td>...</td>\n",
       "      <td>...</td>\n",
       "      <td>...</td>\n",
       "      <td>...</td>\n",
       "      <td>...</td>\n",
       "    </tr>\n",
       "    <tr>\n",
       "      <th>52438</th>\n",
       "      <td>258745</td>\n",
       "      <td>775720</td>\n",
       "      <td>1049920</td>\n",
       "      <td>6</td>\n",
       "      <td>201912</td>\n",
       "    </tr>\n",
       "    <tr>\n",
       "      <th>69541</th>\n",
       "      <td>254479</td>\n",
       "      <td>2269625</td>\n",
       "      <td>1260900</td>\n",
       "      <td>5</td>\n",
       "      <td>201912</td>\n",
       "    </tr>\n",
       "    <tr>\n",
       "      <th>40130</th>\n",
       "      <td>401386</td>\n",
       "      <td>1512330</td>\n",
       "      <td>829060</td>\n",
       "      <td>3</td>\n",
       "      <td>201912</td>\n",
       "    </tr>\n",
       "    <tr>\n",
       "      <th>76502</th>\n",
       "      <td>131998</td>\n",
       "      <td>28298862</td>\n",
       "      <td>17880120</td>\n",
       "      <td>66</td>\n",
       "      <td>201912</td>\n",
       "    </tr>\n",
       "    <tr>\n",
       "      <th>47127</th>\n",
       "      <td>177377</td>\n",
       "      <td>6111906</td>\n",
       "      <td>2638340</td>\n",
       "      <td>8</td>\n",
       "      <td>201912</td>\n",
       "    </tr>\n",
       "  </tbody>\n",
       "</table>\n",
       "<p>99801 rows × 5 columns</p>\n",
       "</div>"
      ],
      "text/plain": [
       "         회사ID      연매출액  월별_연금보험료  월별_직원수      년월\n",
       "9295   391439   2465042    646460       4  201511\n",
       "47772  381560  10314403  34580380     105  201511\n",
       "5572   305317  12271715   5065780      18  201511\n",
       "78461  301480   8353896   5993500      27  201511\n",
       "28216  242049   2586419   2236500      14  201511\n",
       "...       ...       ...       ...     ...     ...\n",
       "52438  258745    775720   1049920       6  201912\n",
       "69541  254479   2269625   1260900       5  201912\n",
       "40130  401386   1512330    829060       3  201912\n",
       "76502  131998  28298862  17880120      66  201912\n",
       "47127  177377   6111906   2638340       8  201912\n",
       "\n",
       "[99801 rows x 5 columns]"
      ]
     },
     "metadata": {},
     "output_type": "display_data"
    },
    {
     "name": "stdout",
     "output_type": "stream",
     "text": [
      "<class 'pandas.core.frame.DataFrame'>\n",
      "Int64Index: 99801 entries, 9295 to 47127\n",
      "Data columns (total 5 columns):\n",
      " #   Column    Non-Null Count  Dtype \n",
      "---  ------    --------------  ----- \n",
      " 0   회사ID      99801 non-null  int64 \n",
      " 1   연매출액      99801 non-null  int64 \n",
      " 2   월별_연금보험료  99801 non-null  int64 \n",
      " 3   월별_직원수    99801 non-null  int64 \n",
      " 4   년월        99801 non-null  object\n",
      "dtypes: int64(4), object(1)\n",
      "memory usage: 4.6+ MB\n"
     ]
    }
   ],
   "source": [
    "# 시계열 데이터를 만들자\n",
    "\n",
    "# 연도와 월을 묶어서 컬럼 형성\n",
    "df['년월'] = pd.to_datetime(df['년도'].astype(str) + df['월'].astype(str), format='%Y%m').dt.strftime('%Y%m')\n",
    "\n",
    "# 회사ID, 연도와 월을 제거해보자\n",
    "df.drop(df[['년도','월']], axis=1, inplace=True)\n",
    "\n",
    "# 시간순으로 나열해보자\n",
    "df= df.sort_values(by='년월')\n",
    "\n",
    "# 데이터 확인\n",
    "display(df)\n",
    "\n",
    "df.info()"
   ]
  },
  {
   "cell_type": "code",
   "execution_count": 4,
   "metadata": {
    "slideshow": {
     "slide_type": "slide"
    }
   },
   "outputs": [
    {
     "data": {
      "text/html": [
       "<div>\n",
       "<style scoped>\n",
       "    .dataframe tbody tr th:only-of-type {\n",
       "        vertical-align: middle;\n",
       "    }\n",
       "\n",
       "    .dataframe tbody tr th {\n",
       "        vertical-align: top;\n",
       "    }\n",
       "\n",
       "    .dataframe thead th {\n",
       "        text-align: right;\n",
       "    }\n",
       "</style>\n",
       "<table border=\"1\" class=\"dataframe\">\n",
       "  <thead>\n",
       "    <tr style=\"text-align: right;\">\n",
       "      <th></th>\n",
       "      <th>회사ID</th>\n",
       "      <th>연매출액</th>\n",
       "      <th>월별_연금보험료</th>\n",
       "      <th>월별_직원수</th>\n",
       "      <th>년월</th>\n",
       "    </tr>\n",
       "  </thead>\n",
       "  <tbody>\n",
       "    <tr>\n",
       "      <th>28116</th>\n",
       "      <td>126814</td>\n",
       "      <td>421492545</td>\n",
       "      <td>116361880</td>\n",
       "      <td>504</td>\n",
       "      <td>201511</td>\n",
       "    </tr>\n",
       "    <tr>\n",
       "      <th>48411</th>\n",
       "      <td>294387</td>\n",
       "      <td>132543154</td>\n",
       "      <td>130447840</td>\n",
       "      <td>640</td>\n",
       "      <td>201511</td>\n",
       "    </tr>\n",
       "    <tr>\n",
       "      <th>79019</th>\n",
       "      <td>294337</td>\n",
       "      <td>102579741</td>\n",
       "      <td>244699780</td>\n",
       "      <td>1202</td>\n",
       "      <td>201511</td>\n",
       "    </tr>\n",
       "    <tr>\n",
       "      <th>95996</th>\n",
       "      <td>126521</td>\n",
       "      <td>567910907</td>\n",
       "      <td>525409000</td>\n",
       "      <td>1588</td>\n",
       "      <td>201511</td>\n",
       "    </tr>\n",
       "    <tr>\n",
       "      <th>29798</th>\n",
       "      <td>294367</td>\n",
       "      <td>601303965</td>\n",
       "      <td>218100420</td>\n",
       "      <td>852</td>\n",
       "      <td>201511</td>\n",
       "    </tr>\n",
       "    <tr>\n",
       "      <th>...</th>\n",
       "      <td>...</td>\n",
       "      <td>...</td>\n",
       "      <td>...</td>\n",
       "      <td>...</td>\n",
       "      <td>...</td>\n",
       "    </tr>\n",
       "    <tr>\n",
       "      <th>23730</th>\n",
       "      <td>294367</td>\n",
       "      <td>875661976</td>\n",
       "      <td>349521360</td>\n",
       "      <td>1115</td>\n",
       "      <td>201910</td>\n",
       "    </tr>\n",
       "    <tr>\n",
       "      <th>52105</th>\n",
       "      <td>294367</td>\n",
       "      <td>875661976</td>\n",
       "      <td>345225600</td>\n",
       "      <td>1104</td>\n",
       "      <td>201911</td>\n",
       "    </tr>\n",
       "    <tr>\n",
       "      <th>35822</th>\n",
       "      <td>419945</td>\n",
       "      <td>10058868796</td>\n",
       "      <td>952045040</td>\n",
       "      <td>2870</td>\n",
       "      <td>201911</td>\n",
       "    </tr>\n",
       "    <tr>\n",
       "      <th>6086</th>\n",
       "      <td>419945</td>\n",
       "      <td>10058868796</td>\n",
       "      <td>952530380</td>\n",
       "      <td>2872</td>\n",
       "      <td>201912</td>\n",
       "    </tr>\n",
       "    <tr>\n",
       "      <th>63718</th>\n",
       "      <td>294367</td>\n",
       "      <td>875661976</td>\n",
       "      <td>348579300</td>\n",
       "      <td>1119</td>\n",
       "      <td>201912</td>\n",
       "    </tr>\n",
       "  </tbody>\n",
       "</table>\n",
       "<p>1062 rows × 5 columns</p>\n",
       "</div>"
      ],
      "text/plain": [
       "         회사ID         연매출액   월별_연금보험료  월별_직원수      년월\n",
       "28116  126814    421492545  116361880     504  201511\n",
       "48411  294387    132543154  130447840     640  201511\n",
       "79019  294337    102579741  244699780    1202  201511\n",
       "95996  126521    567910907  525409000    1588  201511\n",
       "29798  294367    601303965  218100420     852  201511\n",
       "...       ...          ...        ...     ...     ...\n",
       "23730  294367    875661976  349521360    1115  201910\n",
       "52105  294367    875661976  345225600    1104  201911\n",
       "35822  419945  10058868796  952045040    2870  201911\n",
       "6086   419945  10058868796  952530380    2872  201912\n",
       "63718  294367    875661976  348579300    1119  201912\n",
       "\n",
       "[1062 rows x 5 columns]"
      ]
     },
     "metadata": {},
     "output_type": "display_data"
    }
   ],
   "source": [
    "# 매출액 700억 / 회사 직원수 400 명 이상만 추출\n",
    "\n",
    "df_70_billion = df[df['연매출액']>=70000000]\n",
    "df_worker_400 = df_70_billion[df_70_billion['월별_직원수']>=400]\n",
    "display(df_worker_400)"
   ]
  },
  {
   "cell_type": "code",
   "execution_count": 5,
   "metadata": {
    "slideshow": {
     "slide_type": "slide"
    }
   },
   "outputs": [],
   "source": [
    "# 데이터 일정 개수 이상만 남긴다.\n",
    "new_df = df_worker_400.groupby(\"회사ID\").filter(lambda x : len(x) > 10)"
   ]
  },
  {
   "cell_type": "code",
   "execution_count": 6,
   "metadata": {
    "slideshow": {
     "slide_type": "slide"
    }
   },
   "outputs": [
    {
     "name": "stdout",
     "output_type": "stream",
     "text": [
      "남은 회사 개수 : 34 개\n"
     ]
    }
   ],
   "source": [
    "print(\"남은 회사 개수 :\",new_df['회사ID'].nunique(), \"개\")"
   ]
  },
  {
   "cell_type": "code",
   "execution_count": 7,
   "metadata": {
    "slideshow": {
     "slide_type": "slide"
    }
   },
   "outputs": [],
   "source": [
    "# 34개의 회사ID를 리스트로 저장합니다.\n",
    "list_ID = new_df['회사ID'].unique()"
   ]
  },
  {
   "cell_type": "markdown",
   "metadata": {
    "slideshow": {
     "slide_type": "slide"
    }
   },
   "source": [
    "## 상관관계를 분석해봅시다."
   ]
  },
  {
   "cell_type": "code",
   "execution_count": 8,
   "metadata": {
    "slideshow": {
     "slide_type": "slide"
    }
   },
   "outputs": [
    {
     "name": "stdout",
     "output_type": "stream",
     "text": [
      "126814 회사 데이터입니다.\n"
     ]
    },
    {
     "data": {
      "text/html": [
       "<div>\n",
       "<style scoped>\n",
       "    .dataframe tbody tr th:only-of-type {\n",
       "        vertical-align: middle;\n",
       "    }\n",
       "\n",
       "    .dataframe tbody tr th {\n",
       "        vertical-align: top;\n",
       "    }\n",
       "\n",
       "    .dataframe thead th {\n",
       "        text-align: right;\n",
       "    }\n",
       "</style>\n",
       "<table border=\"1\" class=\"dataframe\">\n",
       "  <thead>\n",
       "    <tr style=\"text-align: right;\">\n",
       "      <th></th>\n",
       "      <th>연매출액</th>\n",
       "      <th>월별_연금보험료</th>\n",
       "      <th>월별_직원수</th>\n",
       "    </tr>\n",
       "    <tr>\n",
       "      <th>년월</th>\n",
       "      <th></th>\n",
       "      <th></th>\n",
       "      <th></th>\n",
       "    </tr>\n",
       "  </thead>\n",
       "  <tbody>\n",
       "    <tr>\n",
       "      <th>201511</th>\n",
       "      <td>-1.117007</td>\n",
       "      <td>-1.514550</td>\n",
       "      <td>-1.035997</td>\n",
       "    </tr>\n",
       "    <tr>\n",
       "      <th>201512</th>\n",
       "      <td>-1.117007</td>\n",
       "      <td>-1.110935</td>\n",
       "      <td>-0.097224</td>\n",
       "    </tr>\n",
       "    <tr>\n",
       "      <th>201601</th>\n",
       "      <td>-1.319648</td>\n",
       "      <td>-1.241831</td>\n",
       "      <td>-0.218356</td>\n",
       "    </tr>\n",
       "    <tr>\n",
       "      <th>201602</th>\n",
       "      <td>-1.319648</td>\n",
       "      <td>-1.037851</td>\n",
       "      <td>0.084474</td>\n",
       "    </tr>\n",
       "    <tr>\n",
       "      <th>201603</th>\n",
       "      <td>-1.319648</td>\n",
       "      <td>-1.365501</td>\n",
       "      <td>-0.763450</td>\n",
       "    </tr>\n",
       "  </tbody>\n",
       "</table>\n",
       "</div>"
      ],
      "text/plain": [
       "            연매출액  월별_연금보험료    월별_직원수\n",
       "년월                                  \n",
       "201511 -1.117007 -1.514550 -1.035997\n",
       "201512 -1.117007 -1.110935 -0.097224\n",
       "201601 -1.319648 -1.241831 -0.218356\n",
       "201602 -1.319648 -1.037851  0.084474\n",
       "201603 -1.319648 -1.365501 -0.763450"
      ]
     },
     "metadata": {},
     "output_type": "display_data"
    }
   ],
   "source": [
    "# 특정회사를 중심으로 분석해봅시다.\n",
    "# 63을 특정해서 분석한다.\n",
    "\n",
    "\n",
    "# from sklearn.preprocessing import StandardScaler\n",
    "# scaler = StandardScaler()\n",
    "\n",
    "x=126814\n",
    "\n",
    "df_126814 = df[df['회사ID']==126814]\n",
    "\n",
    "print(f\"{x} 회사 데이터입니다.\")\n",
    "\n",
    "df_126814.drop('회사ID', axis=1,inplace=True) # 회사 ID도 int로 인식\n",
    "\n",
    "new_df_126814 = df_126814.set_index(['년월']) # 하나의 회사만 존재하기 때문에 index로 설정 / 상관관계분석에 영향 X\n",
    "\n",
    "# Z-score 표준화\n",
    "for col in new_df_126814.columns :\n",
    "    series_mean = new_df_126814[col].mean()\n",
    "    series_std = new_df_126814[col].std() # 가끔 가다 매출액 혹은 직원 변화량이 없어 0으로 찍히기도 한다. ==> 제외해야 함\n",
    "    new_df_126814[col] = new_df_126814[col].apply(lambda x: (x-series_mean)/series_std)\n",
    "\n",
    "display(new_df_126814.head())"
   ]
  },
  {
   "cell_type": "code",
   "execution_count": 9,
   "metadata": {
    "scrolled": true,
    "slideshow": {
     "slide_type": "slide"
    }
   },
   "outputs": [
    {
     "data": {
      "image/png": "[encoded data removed]",
      "text/plain": [
       "<Figure size 504x504 with 2 Axes>"
      ]
     },
     "metadata": {
      "needs_background": "light"
     },
     "output_type": "display_data"
    }
   ],
   "source": [
    "# 상관관계 시각화 \n",
    "corr_df = new_df_126814.corr()\n",
    "# 그림 사이즈 지정\n",
    "fig, ax = plt.subplots( figsize=(7,7) )\n",
    "# 삼각형 마스크를 만든다(위 쪽 삼각형에 True, 아래 삼각형에 False)\n",
    "mask = np.zeros_like(corr_df, dtype=np.bool)\n",
    "mask[np.triu_indices_from(mask)] = True\n",
    "# 히트맵을 그린다\n",
    "sns.heatmap(corr_df, \n",
    "            cmap = 'RdYlBu_r', \n",
    "            annot = True,   # 실제 값을 표시한다\n",
    "            mask=mask,      # 표시하지 않을 마스크 부분을 지정한다\n",
    "            linewidths=.5,  # 경계면 실선으로 구분하기\n",
    "            cbar_kws={\"shrink\": .5},# 컬러바 크기 절반으로 줄이기\n",
    "            vmin = -1,vmax = 1   # 컬러바 범위 -1 ~ 1\n",
    "           )  \n",
    "plt.show()\n"
   ]
  },
  {
   "cell_type": "markdown",
   "metadata": {
    "slideshow": {
     "slide_type": "slide"
    }
   },
   "source": [
    "# 연매출액과 직원수는 큰 상관관계를 보이지 않는다."
   ]
  },
  {
   "cell_type": "code",
   "execution_count": null,
   "metadata": {},
   "outputs": [],
   "source": []
  }
 ],
 "metadata": {
  "celltoolbar": "Slideshow",
  "kernelspec": {
   "display_name": "pydatavenv",
   "language": "python",
   "name": "pydatavenv"
  },
  "language_info": {
   "codemirror_mode": {
    "name": "ipython",
    "version": 3
   },
   "file_extension": ".py",
   "mimetype": "text/x-python",
   "name": "python",
   "nbconvert_exporter": "python",
   "pygments_lexer": "ipython3",
   "version": "3.7.9"
  }
 },
 "nbformat": 4,
 "nbformat_minor": 4
}
